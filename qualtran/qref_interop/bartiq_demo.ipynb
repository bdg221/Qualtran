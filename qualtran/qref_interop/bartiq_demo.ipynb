{
 "cells": [
  {
   "cell_type": "markdown",
   "id": "6f3d7cc7-39a1-443a-84fb-8810097b0637",
   "metadata": {},
   "source": [
    "# Qualtran + QREF & Bartiq"
   ]
  },
  {
   "cell_type": "markdown",
   "id": "9de43b9f-5b74-4d0a-92d8-b27e9c3f5e15",
   "metadata": {},
   "source": [
    "This notebook provides an example of converting Bloqs to [QREF](https://github.com/PsiQ/qref), then using QREF with [Bartiq](https://github.com/PsiQ/bartiq) for symbolic compilation.\n",
    "\n",
    "The following is not meant to be an introduction to these packages and it is expected that the reader has a basic understanding of the functionality of each package. For more information about an individual package, please consult the respective documentation."
   ]
  },
  {
   "cell_type": "markdown",
   "id": "0d62ccdd-3336-4971-9a68-d67dc0e060f8",
   "metadata": {},
   "source": [
    "## Basics\n",
    "\n",
    "**QREF** is a format for serializing quantum algorithms for the purpose of performing quantum resource estimations (QREs.)\n",
    "\n",
    "**Bartiq** is a library for obtaining symbolic expressions for QREs. \n",
    "\n",
    "In order to highlight the benefits of the integration between Qualtran and QREF and Bartiq, we will analyze Alias Sampling – a state preparation method described in [Encoding Electronic Spectra in Quantum Circuits with Linear T Complexity](https://arxiv.org/abs/1805.03662).\n",
    "\n",
    "Let's start with the basics: converting a Bloq to QREF, then compiling the costs using Bartiq."
   ]
  },
  {
   "cell_type": "markdown",
   "id": "ffb0d513",
   "metadata": {},
   "source": [
    "### Use the Qualtran Alias Sampling Implementation\n",
    "\n",
    "First, we will invoke the `StatePreparationAliasSampling` to generate a Bloq representing Alias Sampling method."
   ]
  },
  {
   "cell_type": "code",
   "execution_count": 1,
   "id": "cfeb60ce-81af-494c-8e6c-9033642048f8",
   "metadata": {},
   "outputs": [
    {
     "data": {
      "image/svg+xml": [
       "<svg xmlns=\"http://www.w3.org/2000/svg\" xmlns:xlink=\"http://www.w3.org/1999/xlink\" width=\"721pt\" height=\"307pt\" viewBox=\"0.00 0.00 721.00 307.00\">\n",
       "<g id=\"graph0\" class=\"graph\" transform=\"scale(1 1) rotate(0) translate(4 303)\">\n",
       "<title>my_graph</title>\n",
       "<polygon fill=\"white\" stroke=\"transparent\" points=\"-4,4 -4,-303 717,-303 717,4 -4,4\"/>\n",
       "<!-- selection_G13 -->\n",
       "<g id=\"node1\" class=\"node\">\n",
       "<title>selection_G13</title>\n",
       "<text text-anchor=\"middle\" x=\"51.5\" y=\"-230.3\" font-family=\"Times,serif\" font-size=\"14.00\">selection</text>\n",
       "</g>\n",
       "<!-- PrepareUniformSuperposition -->\n",
       "<g id=\"node8\" class=\"node\">\n",
       "<title>PrepareUniformSuperposition</title>\n",
       "<polygon fill=\"none\" stroke=\"black\" points=\"140,-236 140,-253 268,-253 268,-236 140,-236\"/>\n",
       "<text text-anchor=\"start\" x=\"143\" y=\"-242\" font-family=\"Times,serif\" font-size=\"10.00\">PrepareUniformSuperposition</text>\n",
       "<polygon fill=\"none\" stroke=\"black\" points=\"140,-215 140,-236 268,-236 268,-215 140,-215\"/>\n",
       "<text text-anchor=\"start\" x=\"188.5\" y=\"-221.8\" font-family=\"Times,serif\" font-size=\"14.00\">target</text>\n",
       "</g>\n",
       "<!-- selection_G13&#45;&gt;PrepareUniformSuperposition -->\n",
       "<g id=\"edge1\" class=\"edge\">\n",
       "<title>selection_G13:e-&gt;PrepareUniformSuperposition:w</title>\n",
       "<path fill=\"none\" stroke=\"black\" d=\"M85.5,-234C109.28,-234 115.09,-225.55 137.75,-225.03\"/>\n",
       "<ellipse fill=\"black\" stroke=\"black\" cx=\"139\" cy=\"-225.01\" rx=\"1\" ry=\"1\"/>\n",
       "<text text-anchor=\"middle\" x=\"121.5\" y=\"-230\" font-family=\"Times,serif\" font-size=\"10.00\">5</text>\n",
       "</g>\n",
       "<!-- sigma_mu_G12 -->\n",
       "<g id=\"node2\" class=\"node\">\n",
       "<title>sigma_mu_G12</title>\n",
       "<text text-anchor=\"middle\" x=\"51.5\" y=\"-14.3\" font-family=\"Times,serif\" font-size=\"14.00\">sigma_mu</text>\n",
       "</g>\n",
       "<!-- OnEach -->\n",
       "<g id=\"node10\" class=\"node\">\n",
       "<title>OnEach</title>\n",
       "<polygon fill=\"none\" stroke=\"black\" points=\"286,-30 286,-47 320,-47 320,-30 286,-30\"/>\n",
       "<text text-anchor=\"start\" x=\"289\" y=\"-36\" font-family=\"Times,serif\" font-size=\"10.00\">H⨂21</text>\n",
       "<polygon fill=\"none\" stroke=\"black\" points=\"286,-9 286,-30 320,-30 320,-9 286,-9\"/>\n",
       "<text text-anchor=\"start\" x=\"299.5\" y=\"-15.8\" font-family=\"Times,serif\" font-size=\"14.00\">q</text>\n",
       "</g>\n",
       "<!-- sigma_mu_G12&#45;&gt;OnEach -->\n",
       "<g id=\"edge2\" class=\"edge\">\n",
       "<title>sigma_mu_G12:e-&gt;OnEach:w</title>\n",
       "<path fill=\"none\" stroke=\"black\" d=\"M89.5,-18C176.15,-18 198.32,-18.98 283.97,-19\"/>\n",
       "<ellipse fill=\"black\" stroke=\"black\" cx=\"285\" cy=\"-19\" rx=\"1\" ry=\"1\"/>\n",
       "<text text-anchor=\"middle\" x=\"121.5\" y=\"-22\" font-family=\"Times,serif\" font-size=\"10.00\">21</text>\n",
       "</g>\n",
       "<!-- alt -->\n",
       "<g id=\"node3\" class=\"node\">\n",
       "<title>alt</title>\n",
       "<text text-anchor=\"middle\" x=\"51.5\" y=\"-122.3\" font-family=\"Times,serif\" font-size=\"14.00\">alt</text>\n",
       "</g>\n",
       "<!-- QROM -->\n",
       "<g id=\"node6\" class=\"node\">\n",
       "<title>QROM</title>\n",
       "<polygon fill=\"none\" stroke=\"black\" points=\"338.5,-217 338.5,-234 393.5,-234 393.5,-217 338.5,-217\"/>\n",
       "<text text-anchor=\"start\" x=\"350.5\" y=\"-223\" font-family=\"Times,serif\" font-size=\"10.00\">QROM</text>\n",
       "<polygon fill=\"none\" stroke=\"black\" points=\"338.5,-196 338.5,-217 393.5,-217 393.5,-196 338.5,-196\"/>\n",
       "<text text-anchor=\"start\" x=\"341.5\" y=\"-202.8\" font-family=\"Times,serif\" font-size=\"14.00\">selection</text>\n",
       "<polygon fill=\"none\" stroke=\"black\" points=\"338.5,-175 338.5,-196 393.5,-196 393.5,-175 338.5,-175\"/>\n",
       "<text text-anchor=\"start\" x=\"343.5\" y=\"-181.8\" font-family=\"Times,serif\" font-size=\"14.00\">target0_</text>\n",
       "<polygon fill=\"none\" stroke=\"black\" points=\"338.5,-154 338.5,-175 393.5,-175 393.5,-154 338.5,-154\"/>\n",
       "<text text-anchor=\"start\" x=\"343.5\" y=\"-160.8\" font-family=\"Times,serif\" font-size=\"14.00\">target1_</text>\n",
       "</g>\n",
       "<!-- alt&#45;&gt;QROM -->\n",
       "<g id=\"edge4\" class=\"edge\">\n",
       "<title>alt:e-&gt;QROM:w</title>\n",
       "<path fill=\"none\" stroke=\"black\" d=\"M79.5,-126C164.71,-126 185.59,-139.35 268,-161 299.06,-169.16 304.85,-184.27 335.73,-184.97\"/>\n",
       "<ellipse fill=\"black\" stroke=\"black\" cx=\"337\" cy=\"-184.99\" rx=\"1\" ry=\"1\"/>\n",
       "<text text-anchor=\"middle\" x=\"204\" y=\"-164\" font-family=\"Times,serif\" font-size=\"10.00\">5</text>\n",
       "</g>\n",
       "<!-- keep -->\n",
       "<g id=\"node4\" class=\"node\">\n",
       "<title>keep</title>\n",
       "<text text-anchor=\"middle\" x=\"51.5\" y=\"-176.3\" font-family=\"Times,serif\" font-size=\"14.00\">keep</text>\n",
       "</g>\n",
       "<!-- keep&#45;&gt;QROM -->\n",
       "<g id=\"edge5\" class=\"edge\">\n",
       "<title>keep:e-&gt;QROM:w</title>\n",
       "<path fill=\"none\" stroke=\"black\" d=\"M79.5,-180C193.93,-180 222.56,-164.19 335.99,-164\"/>\n",
       "<ellipse fill=\"black\" stroke=\"black\" cx=\"337\" cy=\"-164\" rx=\"1\" ry=\"1\"/>\n",
       "<text text-anchor=\"middle\" x=\"204\" y=\"-181\" font-family=\"Times,serif\" font-size=\"10.00\">21</text>\n",
       "</g>\n",
       "<!-- less_than_equal_G19 -->\n",
       "<g id=\"node5\" class=\"node\">\n",
       "<title>less_than_equal_G19</title>\n",
       "<text text-anchor=\"middle\" x=\"51.5\" y=\"-68.3\" font-family=\"Times,serif\" font-size=\"14.00\">less_than_equal</text>\n",
       "</g>\n",
       "<!-- LessThanEqual -->\n",
       "<g id=\"node7\" class=\"node\">\n",
       "<title>LessThanEqual</title>\n",
       "<polygon fill=\"none\" stroke=\"black\" points=\"430,-129 430,-146 500,-146 500,-129 430,-129\"/>\n",
       "<text text-anchor=\"start\" x=\"433\" y=\"-135\" font-family=\"Times,serif\" font-size=\"10.00\">LessThanEqual</text>\n",
       "<polygon fill=\"none\" stroke=\"black\" points=\"430,-108 430,-129 500,-129 500,-108 430,-108\"/>\n",
       "<text text-anchor=\"start\" x=\"461.5\" y=\"-114.8\" font-family=\"Times,serif\" font-size=\"14.00\">x</text>\n",
       "<polygon fill=\"none\" stroke=\"black\" points=\"430,-87 430,-108 500,-108 500,-87 430,-87\"/>\n",
       "<text text-anchor=\"start\" x=\"461.5\" y=\"-93.8\" font-family=\"Times,serif\" font-size=\"14.00\">y</text>\n",
       "<polygon fill=\"none\" stroke=\"black\" points=\"430,-66 430,-87 500,-87 500,-66 430,-66\"/>\n",
       "<text text-anchor=\"start\" x=\"449.5\" y=\"-72.8\" font-family=\"Times,serif\" font-size=\"14.00\">target</text>\n",
       "</g>\n",
       "<!-- less_than_equal_G19&#45;&gt;LessThanEqual -->\n",
       "<g id=\"edge8\" class=\"edge\">\n",
       "<title>less_than_equal_G19:e-&gt;LessThanEqual:w</title>\n",
       "<path fill=\"none\" stroke=\"black\" d=\"M103,-72C247.63,-72 284.3,-75.96 427.88,-76\"/>\n",
       "<ellipse fill=\"black\" stroke=\"black\" cx=\"429\" cy=\"-76\" rx=\"1\" ry=\"1\"/>\n",
       "<text text-anchor=\"middle\" x=\"303\" y=\"-79\" font-family=\"Times,serif\" font-size=\"10.00\">1</text>\n",
       "</g>\n",
       "<!-- QROM&#45;&gt;LessThanEqual -->\n",
       "<g id=\"edge6\" class=\"edge\">\n",
       "<title>QROM:e-&gt;LessThanEqual:w</title>\n",
       "<path fill=\"none\" stroke=\"black\" d=\"M393,-164C418.18,-164 404.89,-121.43 427.97,-119.1\"/>\n",
       "<ellipse fill=\"black\" stroke=\"black\" cx=\"429\" cy=\"-119.05\" rx=\"1\" ry=\"1\"/>\n",
       "<text text-anchor=\"middle\" x=\"411.5\" y=\"-145\" font-family=\"Times,serif\" font-size=\"10.00\">21</text>\n",
       "</g>\n",
       "<!-- CSwap -->\n",
       "<g id=\"node9\" class=\"node\">\n",
       "<title>CSwap</title>\n",
       "<polygon fill=\"none\" stroke=\"black\" points=\"537,-243 537,-260 573,-260 573,-243 537,-243\"/>\n",
       "<text text-anchor=\"start\" x=\"540\" y=\"-249\" font-family=\"Times,serif\" font-size=\"10.00\">CSwap</text>\n",
       "<polygon fill=\"none\" stroke=\"black\" points=\"537,-222 537,-243 573,-243 573,-222 537,-222\"/>\n",
       "<text text-anchor=\"start\" x=\"545.5\" y=\"-228.8\" font-family=\"Times,serif\" font-size=\"14.00\">ctrl</text>\n",
       "<polygon fill=\"none\" stroke=\"black\" points=\"537,-201 537,-222 573,-222 573,-201 537,-201\"/>\n",
       "<text text-anchor=\"start\" x=\"551.5\" y=\"-207.8\" font-family=\"Times,serif\" font-size=\"14.00\">x</text>\n",
       "<polygon fill=\"none\" stroke=\"black\" points=\"537,-180 537,-201 573,-201 573,-180 537,-180\"/>\n",
       "<text text-anchor=\"start\" x=\"551.5\" y=\"-186.8\" font-family=\"Times,serif\" font-size=\"14.00\">y</text>\n",
       "</g>\n",
       "<!-- QROM&#45;&gt;CSwap -->\n",
       "<g id=\"edge10\" class=\"edge\">\n",
       "<title>QROM:e-&gt;CSwap:w</title>\n",
       "<path fill=\"none\" stroke=\"black\" d=\"M393,-185C440.91,-185 453.35,-187.11 500,-198 516.18,-201.78 519.3,-210.16 534.64,-210.94\"/>\n",
       "<ellipse fill=\"black\" stroke=\"black\" cx=\"536\" cy=\"-210.98\" rx=\"1\" ry=\"1\"/>\n",
       "<text text-anchor=\"middle\" x=\"465\" y=\"-201\" font-family=\"Times,serif\" font-size=\"10.00\">5</text>\n",
       "</g>\n",
       "<!-- QROM&#45;&gt;CSwap -->\n",
       "<g id=\"edge11\" class=\"edge\">\n",
       "<title>QROM:e-&gt;CSwap:w</title>\n",
       "<path fill=\"none\" stroke=\"black\" d=\"M393,-207C440.69,-207 454.03,-211.68 500,-199 508.62,-196.62 509.29,-192.05 518,-190 525.45,-188.24 528.07,-189.67 534.78,-189.95\"/>\n",
       "<ellipse fill=\"black\" stroke=\"black\" cx=\"536\" cy=\"-189.98\" rx=\"1\" ry=\"1\"/>\n",
       "<text text-anchor=\"middle\" x=\"465\" y=\"-210\" font-family=\"Times,serif\" font-size=\"10.00\">5</text>\n",
       "</g>\n",
       "<!-- LessThanEqual&#45;&gt;CSwap -->\n",
       "<g id=\"edge9\" class=\"edge\">\n",
       "<title>LessThanEqual:e-&gt;CSwap:w</title>\n",
       "<path fill=\"none\" stroke=\"black\" d=\"M500,-76C517.22,-76 518.96,-220.97 534.97,-232.3\"/>\n",
       "<ellipse fill=\"black\" stroke=\"black\" cx=\"536.05\" cy=\"-232.67\" rx=\"1\" ry=\"1\"/>\n",
       "<text text-anchor=\"middle\" x=\"518.5\" y=\"-157\" font-family=\"Times,serif\" font-size=\"10.00\">1</text>\n",
       "</g>\n",
       "<!-- sigma_mu -->\n",
       "<g id=\"node12\" class=\"node\">\n",
       "<title>sigma_mu</title>\n",
       "<text text-anchor=\"middle\" x=\"661.5\" y=\"-61.3\" font-family=\"Times,serif\" font-size=\"14.00\">sigma_mu</text>\n",
       "</g>\n",
       "<!-- LessThanEqual&#45;&gt;sigma_mu -->\n",
       "<g id=\"edge13\" class=\"edge\">\n",
       "<title>LessThanEqual:e-&gt;sigma_mu:w</title>\n",
       "<path fill=\"none\" stroke=\"black\" d=\"M500,-97C555.93,-97 566.51,-65.87 621.2,-65.02\"/>\n",
       "<ellipse fill=\"black\" stroke=\"black\" cx=\"622.5\" cy=\"-65.01\" rx=\"1\" ry=\"1\"/>\n",
       "<text text-anchor=\"middle\" x=\"555\" y=\"-95\" font-family=\"Times,serif\" font-size=\"10.00\">21</text>\n",
       "</g>\n",
       "<!-- keep_G11 -->\n",
       "<g id=\"node14\" class=\"node\">\n",
       "<title>keep_G11</title>\n",
       "<text text-anchor=\"middle\" x=\"661.5\" y=\"-115.3\" font-family=\"Times,serif\" font-size=\"14.00\">keep</text>\n",
       "</g>\n",
       "<!-- LessThanEqual&#45;&gt;keep_G11 -->\n",
       "<g id=\"edge15\" class=\"edge\">\n",
       "<title>LessThanEqual:e-&gt;keep_G11:w</title>\n",
       "<path fill=\"none\" stroke=\"black\" d=\"M500,-119C558.64,-119 573.81,-119 631.43,-119\"/>\n",
       "<ellipse fill=\"black\" stroke=\"black\" cx=\"632.5\" cy=\"-119\" rx=\"1\" ry=\"1\"/>\n",
       "<text text-anchor=\"middle\" x=\"555\" y=\"-122\" font-family=\"Times,serif\" font-size=\"10.00\">21</text>\n",
       "</g>\n",
       "<!-- PrepareUniformSuperposition&#45;&gt;QROM -->\n",
       "<g id=\"edge3\" class=\"edge\">\n",
       "<title>PrepareUniformSuperposition:e-&gt;QROM:w</title>\n",
       "<path fill=\"none\" stroke=\"black\" d=\"M268,-225C299.37,-225 305.59,-207.83 335.78,-207.03\"/>\n",
       "<ellipse fill=\"black\" stroke=\"black\" cx=\"337\" cy=\"-207.01\" rx=\"1\" ry=\"1\"/>\n",
       "<text text-anchor=\"middle\" x=\"303\" y=\"-225\" font-family=\"Times,serif\" font-size=\"10.00\">5</text>\n",
       "</g>\n",
       "<!-- selection_G16 -->\n",
       "<g id=\"node11\" class=\"node\">\n",
       "<title>selection_G16</title>\n",
       "<text text-anchor=\"middle\" x=\"661.5\" y=\"-169.3\" font-family=\"Times,serif\" font-size=\"14.00\">selection</text>\n",
       "</g>\n",
       "<!-- CSwap&#45;&gt;selection_G16 -->\n",
       "<g id=\"edge12\" class=\"edge\">\n",
       "<title>CSwap:e-&gt;selection_G16:w</title>\n",
       "<path fill=\"none\" stroke=\"black\" d=\"M573,-190C597.68,-190 601.91,-173.92 625.47,-173.04\"/>\n",
       "<ellipse fill=\"black\" stroke=\"black\" cx=\"626.5\" cy=\"-173.02\" rx=\"1\" ry=\"1\"/>\n",
       "<text text-anchor=\"middle\" x=\"591.5\" y=\"-189\" font-family=\"Times,serif\" font-size=\"10.00\">5</text>\n",
       "</g>\n",
       "<!-- alt_G18 -->\n",
       "<g id=\"node13\" class=\"node\">\n",
       "<title>alt_G18</title>\n",
       "<text text-anchor=\"middle\" x=\"661.5\" y=\"-223.3\" font-family=\"Times,serif\" font-size=\"14.00\">alt</text>\n",
       "</g>\n",
       "<!-- CSwap&#45;&gt;alt_G18 -->\n",
       "<g id=\"edge14\" class=\"edge\">\n",
       "<title>CSwap:e-&gt;alt_G18:w</title>\n",
       "<path fill=\"none\" stroke=\"black\" d=\"M573,-211C600.05,-211 605.4,-226.14 631.27,-226.96\"/>\n",
       "<ellipse fill=\"black\" stroke=\"black\" cx=\"632.5\" cy=\"-226.98\" rx=\"1\" ry=\"1\"/>\n",
       "<text text-anchor=\"middle\" x=\"591.5\" y=\"-217\" font-family=\"Times,serif\" font-size=\"10.00\">5</text>\n",
       "</g>\n",
       "<!-- less_than_equal -->\n",
       "<g id=\"node15\" class=\"node\">\n",
       "<title>less_than_equal</title>\n",
       "<text text-anchor=\"middle\" x=\"661.5\" y=\"-277.3\" font-family=\"Times,serif\" font-size=\"14.00\">less_than_equal</text>\n",
       "</g>\n",
       "<!-- CSwap&#45;&gt;less_than_equal -->\n",
       "<g id=\"edge16\" class=\"edge\">\n",
       "<title>CSwap:e-&gt;less_than_equal:w</title>\n",
       "<path fill=\"none\" stroke=\"black\" d=\"M573,-233C599.2,-233 583.95,-278.41 607.89,-280.89\"/>\n",
       "<ellipse fill=\"black\" stroke=\"black\" cx=\"609\" cy=\"-280.95\" rx=\"1\" ry=\"1\"/>\n",
       "<text text-anchor=\"middle\" x=\"591.5\" y=\"-261\" font-family=\"Times,serif\" font-size=\"10.00\">1</text>\n",
       "</g>\n",
       "<!-- OnEach&#45;&gt;LessThanEqual -->\n",
       "<g id=\"edge7\" class=\"edge\">\n",
       "<title>OnEach:e-&gt;LessThanEqual:w</title>\n",
       "<path fill=\"none\" stroke=\"black\" d=\"M320,-19C379.23,-19 370.29,-95.18 427.92,-96.97\"/>\n",
       "<ellipse fill=\"black\" stroke=\"black\" cx=\"429\" cy=\"-96.98\" rx=\"1\" ry=\"1\"/>\n",
       "<text text-anchor=\"middle\" x=\"365.5\" y=\"-85\" font-family=\"Times,serif\" font-size=\"10.00\">21</text>\n",
       "</g>\n",
       "</g>\n",
       "</svg>"
      ],
      "text/plain": [
       "<IPython.core.display.SVG object>"
      ]
     },
     "execution_count": 1,
     "metadata": {},
     "output_type": "execute_result"
    }
   ],
   "source": [
    "from qualtran.bloqs.state_preparation import StatePreparationAliasSampling\n",
    "from qualtran.drawing.graphviz import PrettyGraphDrawer\n",
    "\n",
    "probs_list = list(range(24))\n",
    "bloq = StatePreparationAliasSampling.from_probabilities(probs_list).decompose_bloq()\n",
    "PrettyGraphDrawer(bloq).get_svg()"
   ]
  },
  {
   "cell_type": "markdown",
   "id": "716e917b",
   "metadata": {},
   "source": [
    "### Convert the Bloq to QREF\n",
    "\n",
    "Once you have a Bloq, converting it to QREF is easy with `bloq_to_qref`. We also print out the QREF object for easy comparison to the Bloq print out above."
   ]
  },
  {
   "cell_type": "code",
   "execution_count": 2,
   "id": "f3726d8c-ce01-4b6a-b5b6-72654b58f09b",
   "metadata": {},
   "outputs": [
    {
     "data": {
      "image/svg+xml": [
       "<?xml version=\"1.0\" encoding=\"UTF-8\" standalone=\"no\"?>\n",
       "<!DOCTYPE svg PUBLIC \"-//W3C//DTD SVG 1.1//EN\"\n",
       " \"http://www.w3.org/Graphics/SVG/1.1/DTD/svg11.dtd\">\n",
       "<!-- Generated by graphviz version 2.50.0 (0)\n",
       " -->\n",
       "<!-- Pages: 1 -->\n",
       "<svg width=\"1350pt\" height=\"548pt\"\n",
       " viewBox=\"0.00 0.00 1349.93 548.00\" xmlns=\"http://www.w3.org/2000/svg\" xmlns:xlink=\"http://www.w3.org/1999/xlink\">\n",
       "<g id=\"graph0\" class=\"graph\" transform=\"scale(1 1) rotate(0) translate(4 544)\">\n",
       "<polygon fill=\"white\" stroke=\"transparent\" points=\"-4,4 -4,-544 1345.93,-544 1345.93,4 -4,4\"/>\n",
       "<g id=\"clust1\" class=\"cluster\">\n",
       "<title>cluster_.CompositeBloq</title>\n",
       "<path fill=\"none\" stroke=\"black\" d=\"M20,-8C20,-8 1321.93,-8 1321.93,-8 1327.93,-8 1333.93,-14 1333.93,-20 1333.93,-20 1333.93,-520 1333.93,-520 1333.93,-526 1327.93,-532 1321.93,-532 1321.93,-532 20,-532 20,-532 14,-532 8,-526 8,-520 8,-520 8,-20 8,-20 8,-14 14,-8 20,-8\"/>\n",
       "<text text-anchor=\"middle\" x=\"670.97\" y=\"-516.8\" font-family=\"Helvetica,sans-Serif\" font-size=\"14.00\">CompositeBloq</text>\n",
       "</g>\n",
       "<!-- &quot;.CompositeBloq.in_alt&quot; -->\n",
       "<g id=\"node1\" class=\"node\">\n",
       "<title>&quot;.CompositeBloq.in_alt&quot;</title>\n",
       "<ellipse fill=\"none\" stroke=\"#ffa44a\" stroke-width=\"2\" cx=\"72.51\" cy=\"-354\" rx=\"24.27\" ry=\"24.27\"/>\n",
       "<text text-anchor=\"middle\" x=\"72.51\" y=\"-351.5\" font-family=\"Times,serif\" font-size=\"10.00\">in_alt</text>\n",
       "</g>\n",
       "<!-- &quot;.CompositeBloq.QROM_2&quot; -->\n",
       "<g id=\"node15\" class=\"node\">\n",
       "<title>&quot;.CompositeBloq.QROM_2&quot;</title>\n",
       "<path fill=\"none\" stroke=\"#0288f5\" stroke-width=\"2\" d=\"M505.02,-292.5C505.02,-292.5 698.02,-292.5 698.02,-292.5 704.02,-292.5 710.02,-298.5 710.02,-304.5 710.02,-304.5 710.02,-343.5 710.02,-343.5 710.02,-349.5 704.02,-355.5 698.02,-355.5 698.02,-355.5 505.02,-355.5 505.02,-355.5 499.02,-355.5 493.02,-349.5 493.02,-343.5 493.02,-343.5 493.02,-304.5 493.02,-304.5 493.02,-298.5 499.02,-292.5 505.02,-292.5\"/>\n",
       "<text text-anchor=\"middle\" x=\"529.52\" y=\"-341.9\" font-family=\"Times,serif\" font-size=\"12.00\">in_selection</text>\n",
       "<polyline fill=\"none\" stroke=\"#0288f5\" stroke-width=\"2\" points=\"493.02,-334.5 566.02,-334.5 \"/>\n",
       "<text text-anchor=\"middle\" x=\"529.52\" y=\"-320.9\" font-family=\"Times,serif\" font-size=\"12.00\">in_target0_</text>\n",
       "<polyline fill=\"none\" stroke=\"#0288f5\" stroke-width=\"2\" points=\"493.02,-313.5 566.02,-313.5 \"/>\n",
       "<text text-anchor=\"middle\" x=\"529.52\" y=\"-299.9\" font-family=\"Times,serif\" font-size=\"12.00\">in_target1_</text>\n",
       "<polyline fill=\"none\" stroke=\"#0288f5\" stroke-width=\"2\" points=\"566.02,-292.5 566.02,-355.5 \"/>\n",
       "<text text-anchor=\"middle\" x=\"598.52\" y=\"-320.9\" font-family=\"Times,serif\" font-size=\"12.00\">QROM_2</text>\n",
       "<polyline fill=\"none\" stroke=\"#0288f5\" stroke-width=\"2\" points=\"631.02,-292.5 631.02,-355.5 \"/>\n",
       "<text text-anchor=\"middle\" x=\"670.52\" y=\"-341.9\" font-family=\"Times,serif\" font-size=\"12.00\">out_selection</text>\n",
       "<polyline fill=\"none\" stroke=\"#0288f5\" stroke-width=\"2\" points=\"631.02,-334.5 710.02,-334.5 \"/>\n",
       "<text text-anchor=\"middle\" x=\"670.52\" y=\"-320.9\" font-family=\"Times,serif\" font-size=\"12.00\">out_target0_</text>\n",
       "<polyline fill=\"none\" stroke=\"#0288f5\" stroke-width=\"2\" points=\"631.02,-313.5 710.02,-313.5 \"/>\n",
       "<text text-anchor=\"middle\" x=\"670.52\" y=\"-299.9\" font-family=\"Times,serif\" font-size=\"12.00\">out_target1_</text>\n",
       "</g>\n",
       "<!-- &quot;.CompositeBloq.in_alt&quot;&#45;&gt;&quot;.CompositeBloq.QROM_2&quot; -->\n",
       "<g id=\"edge12\" class=\"edge\">\n",
       "<title>&quot;.CompositeBloq.in_alt&quot;&#45;&gt;&quot;.CompositeBloq.QROM_2&quot;:in_target0_</title>\n",
       "<path fill=\"none\" stroke=\"black\" d=\"M96.66,-351.18C158.58,-343.88 333.42,-324.88 482.77,-324.03\"/>\n",
       "<polygon fill=\"black\" stroke=\"black\" points=\"483.03,-327.53 493.02,-324 483.01,-320.53 483.03,-327.53\"/>\n",
       "</g>\n",
       "<!-- &quot;.CompositeBloq.in_keep&quot; -->\n",
       "<g id=\"node2\" class=\"node\">\n",
       "<title>&quot;.CompositeBloq.in_keep&quot;</title>\n",
       "<ellipse fill=\"none\" stroke=\"#ffa44a\" stroke-width=\"2\" cx=\"72.51\" cy=\"-282\" rx=\"29.37\" ry=\"29.37\"/>\n",
       "<text text-anchor=\"middle\" x=\"72.51\" y=\"-279.5\" font-family=\"Times,serif\" font-size=\"10.00\">in_keep</text>\n",
       "</g>\n",
       "<!-- &quot;.CompositeBloq.in_keep&quot;&#45;&gt;&quot;.CompositeBloq.QROM_2&quot; -->\n",
       "<g id=\"edge13\" class=\"edge\">\n",
       "<title>&quot;.CompositeBloq.in_keep&quot;&#45;&gt;&quot;.CompositeBloq.QROM_2&quot;:in_target1_</title>\n",
       "<path fill=\"none\" stroke=\"black\" d=\"M101.97,-284.41C168.1,-289.8 337.53,-302.39 482.62,-302.98\"/>\n",
       "<polygon fill=\"black\" stroke=\"black\" points=\"483.02,-306.48 493.02,-303 483.03,-299.48 483.02,-306.48\"/>\n",
       "</g>\n",
       "<!-- &quot;.CompositeBloq.in_less_than_equal&quot; -->\n",
       "<g id=\"node3\" class=\"node\">\n",
       "<title>&quot;.CompositeBloq.in_less_than_equal&quot;</title>\n",
       "<ellipse fill=\"none\" stroke=\"#ffa44a\" stroke-width=\"2\" cx=\"72.51\" cy=\"-178\" rx=\"56.52\" ry=\"56.52\"/>\n",
       "<text text-anchor=\"middle\" x=\"72.51\" y=\"-175.5\" font-family=\"Times,serif\" font-size=\"10.00\">in_less_than_equal</text>\n",
       "</g>\n",
       "<!-- &quot;.CompositeBloq.LessThanEqual_3&quot; -->\n",
       "<g id=\"node12\" class=\"node\">\n",
       "<title>&quot;.CompositeBloq.LessThanEqual_3&quot;</title>\n",
       "<path fill=\"none\" stroke=\"#0288f5\" stroke-width=\"2\" d=\"M758.02,-125.5C758.02,-125.5 959.02,-125.5 959.02,-125.5 965.02,-125.5 971.02,-131.5 971.02,-137.5 971.02,-137.5 971.02,-176.5 971.02,-176.5 971.02,-182.5 965.02,-188.5 959.02,-188.5 959.02,-188.5 758.02,-188.5 758.02,-188.5 752.02,-188.5 746.02,-182.5 746.02,-176.5 746.02,-176.5 746.02,-137.5 746.02,-137.5 746.02,-131.5 752.02,-125.5 758.02,-125.5\"/>\n",
       "<text text-anchor=\"middle\" x=\"775.02\" y=\"-174.9\" font-family=\"Times,serif\" font-size=\"12.00\">in_target</text>\n",
       "<polyline fill=\"none\" stroke=\"#0288f5\" stroke-width=\"2\" points=\"746.02,-167.5 804.02,-167.5 \"/>\n",
       "<text text-anchor=\"middle\" x=\"775.02\" y=\"-153.9\" font-family=\"Times,serif\" font-size=\"12.00\">in_x</text>\n",
       "<polyline fill=\"none\" stroke=\"#0288f5\" stroke-width=\"2\" points=\"746.02,-146.5 804.02,-146.5 \"/>\n",
       "<text text-anchor=\"middle\" x=\"775.02\" y=\"-132.9\" font-family=\"Times,serif\" font-size=\"12.00\">in_y</text>\n",
       "<polyline fill=\"none\" stroke=\"#0288f5\" stroke-width=\"2\" points=\"804.02,-125.5 804.02,-188.5 \"/>\n",
       "<text text-anchor=\"middle\" x=\"855.52\" y=\"-153.9\" font-family=\"Times,serif\" font-size=\"12.00\">LessThanEqual_3</text>\n",
       "<polyline fill=\"none\" stroke=\"#0288f5\" stroke-width=\"2\" points=\"907.02,-125.5 907.02,-188.5 \"/>\n",
       "<text text-anchor=\"middle\" x=\"939.02\" y=\"-174.9\" font-family=\"Times,serif\" font-size=\"12.00\">out_target</text>\n",
       "<polyline fill=\"none\" stroke=\"#0288f5\" stroke-width=\"2\" points=\"907.02,-167.5 971.02,-167.5 \"/>\n",
       "<text text-anchor=\"middle\" x=\"939.02\" y=\"-153.9\" font-family=\"Times,serif\" font-size=\"12.00\">out_x</text>\n",
       "<polyline fill=\"none\" stroke=\"#0288f5\" stroke-width=\"2\" points=\"907.02,-146.5 971.02,-146.5 \"/>\n",
       "<text text-anchor=\"middle\" x=\"939.02\" y=\"-132.9\" font-family=\"Times,serif\" font-size=\"12.00\">out_y</text>\n",
       "</g>\n",
       "<!-- &quot;.CompositeBloq.in_less_than_equal&quot;&#45;&gt;&quot;.CompositeBloq.LessThanEqual_3&quot; -->\n",
       "<g id=\"edge14\" class=\"edge\">\n",
       "<title>&quot;.CompositeBloq.in_less_than_equal&quot;&#45;&gt;&quot;.CompositeBloq.LessThanEqual_3&quot;:in_target</title>\n",
       "<path fill=\"none\" stroke=\"black\" d=\"M129.31,-178C242.85,-178 509.23,-178 735.94,-178\"/>\n",
       "<polygon fill=\"black\" stroke=\"black\" points=\"736.02,-181.5 746.02,-178 736.02,-174.5 736.02,-181.5\"/>\n",
       "</g>\n",
       "<!-- &quot;.CompositeBloq.in_selection&quot; -->\n",
       "<g id=\"node4\" class=\"node\">\n",
       "<title>&quot;.CompositeBloq.in_selection&quot;</title>\n",
       "<ellipse fill=\"none\" stroke=\"#ffa44a\" stroke-width=\"2\" cx=\"72.51\" cy=\"-436\" rx=\"39.38\" ry=\"39.38\"/>\n",
       "<text text-anchor=\"middle\" x=\"72.51\" y=\"-433.5\" font-family=\"Times,serif\" font-size=\"10.00\">in_selection</text>\n",
       "</g>\n",
       "<!-- &quot;.CompositeBloq.PrepareUniformSuperposition_0&quot; -->\n",
       "<g id=\"node14\" class=\"node\">\n",
       "<title>&quot;.CompositeBloq.PrepareUniformSuperposition_0&quot;</title>\n",
       "<path fill=\"none\" stroke=\"#0288f5\" stroke-width=\"2\" d=\"M177.02,-400C177.02,-400 445.02,-400 445.02,-400 451.02,-400 457.02,-406 457.02,-412 457.02,-412 457.02,-424 457.02,-424 457.02,-430 451.02,-436 445.02,-436 445.02,-436 177.02,-436 177.02,-436 171.02,-436 165.02,-430 165.02,-424 165.02,-424 165.02,-412 165.02,-412 165.02,-406 171.02,-400 177.02,-400\"/>\n",
       "<text text-anchor=\"middle\" x=\"194.02\" y=\"-414.9\" font-family=\"Times,serif\" font-size=\"12.00\">in_target</text>\n",
       "<polyline fill=\"none\" stroke=\"#0288f5\" stroke-width=\"2\" points=\"223.02,-400 223.02,-436 \"/>\n",
       "<text text-anchor=\"middle\" x=\"308.02\" y=\"-414.9\" font-family=\"Times,serif\" font-size=\"12.00\">PrepareUniformSuperposition_0</text>\n",
       "<polyline fill=\"none\" stroke=\"#0288f5\" stroke-width=\"2\" points=\"393.02,-400 393.02,-436 \"/>\n",
       "<text text-anchor=\"middle\" x=\"425.02\" y=\"-414.9\" font-family=\"Times,serif\" font-size=\"12.00\">out_target</text>\n",
       "</g>\n",
       "<!-- &quot;.CompositeBloq.in_selection&quot;&#45;&gt;&quot;.CompositeBloq.PrepareUniformSuperposition_0&quot; -->\n",
       "<g id=\"edge15\" class=\"edge\">\n",
       "<title>&quot;.CompositeBloq.in_selection&quot;&#45;&gt;&quot;.CompositeBloq.PrepareUniformSuperposition_0&quot;:in_target</title>\n",
       "<path fill=\"none\" stroke=\"black\" d=\"M110.59,-425.32C124.01,-422.17 139.58,-419.31 154.68,-418.34\"/>\n",
       "<polygon fill=\"black\" stroke=\"black\" points=\"155.15,-421.83 165.02,-418 154.91,-414.83 155.15,-421.83\"/>\n",
       "</g>\n",
       "<!-- &quot;.CompositeBloq.in_sigma_mu&quot; -->\n",
       "<g id=\"node5\" class=\"node\">\n",
       "<title>&quot;.CompositeBloq.in_sigma_mu&quot;</title>\n",
       "<ellipse fill=\"none\" stroke=\"#ffa44a\" stroke-width=\"2\" cx=\"72.51\" cy=\"-61\" rx=\"42.27\" ry=\"42.27\"/>\n",
       "<text text-anchor=\"middle\" x=\"72.51\" y=\"-58.5\" font-family=\"Times,serif\" font-size=\"10.00\">in_sigma_mu</text>\n",
       "</g>\n",
       "<!-- &quot;.CompositeBloq.OnEach_1&quot; -->\n",
       "<g id=\"node13\" class=\"node\">\n",
       "<title>&quot;.CompositeBloq.OnEach_1&quot;</title>\n",
       "<path fill=\"none\" stroke=\"#0288f5\" stroke-width=\"2\" d=\"M538.52,-81C538.52,-81 664.52,-81 664.52,-81 670.52,-81 676.52,-87 676.52,-93 676.52,-93 676.52,-105 676.52,-105 676.52,-111 670.52,-117 664.52,-117 664.52,-117 538.52,-117 538.52,-117 532.52,-117 526.52,-111 526.52,-105 526.52,-105 526.52,-93 526.52,-93 526.52,-87 532.52,-81 538.52,-81\"/>\n",
       "<text text-anchor=\"middle\" x=\"545.52\" y=\"-95.9\" font-family=\"Times,serif\" font-size=\"12.00\">in_q</text>\n",
       "<polyline fill=\"none\" stroke=\"#0288f5\" stroke-width=\"2\" points=\"564.52,-81 564.52,-117 \"/>\n",
       "<text text-anchor=\"middle\" x=\"598.52\" y=\"-95.9\" font-family=\"Times,serif\" font-size=\"12.00\">OnEach_1</text>\n",
       "<polyline fill=\"none\" stroke=\"#0288f5\" stroke-width=\"2\" points=\"632.52,-81 632.52,-117 \"/>\n",
       "<text text-anchor=\"middle\" x=\"654.52\" y=\"-95.9\" font-family=\"Times,serif\" font-size=\"12.00\">out_q</text>\n",
       "</g>\n",
       "<!-- &quot;.CompositeBloq.in_sigma_mu&quot;&#45;&gt;&quot;.CompositeBloq.OnEach_1&quot; -->\n",
       "<g id=\"edge16\" class=\"edge\">\n",
       "<title>&quot;.CompositeBloq.in_sigma_mu&quot;&#45;&gt;&quot;.CompositeBloq.OnEach_1&quot;:in_q</title>\n",
       "<path fill=\"none\" stroke=\"black\" d=\"M114.55,-66.77C192.02,-77.16 365.51,-98.04 515.24,-98.97\"/>\n",
       "<polygon fill=\"black\" stroke=\"black\" points=\"515.51,-102.47 525.52,-99 515.53,-95.47 515.51,-102.47\"/>\n",
       "</g>\n",
       "<!-- &quot;.CompositeBloq.out_alt&quot; -->\n",
       "<g id=\"node6\" class=\"node\">\n",
       "<title>&quot;.CompositeBloq.out_alt&quot;</title>\n",
       "<ellipse fill=\"none\" stroke=\"#ffa44a\" stroke-width=\"2\" cx=\"1266.48\" cy=\"-337\" rx=\"27.16\" ry=\"27.16\"/>\n",
       "<text text-anchor=\"middle\" x=\"1266.48\" y=\"-334.5\" font-family=\"Times,serif\" font-size=\"10.00\">out_alt</text>\n",
       "</g>\n",
       "<!-- &quot;.CompositeBloq.out_keep&quot; -->\n",
       "<g id=\"node7\" class=\"node\">\n",
       "<title>&quot;.CompositeBloq.out_keep&quot;</title>\n",
       "<ellipse fill=\"none\" stroke=\"#ffa44a\" stroke-width=\"2\" cx=\"1266.48\" cy=\"-157\" rx=\"32.25\" ry=\"32.25\"/>\n",
       "<text text-anchor=\"middle\" x=\"1266.48\" y=\"-154.5\" font-family=\"Times,serif\" font-size=\"10.00\">out_keep</text>\n",
       "</g>\n",
       "<!-- &quot;.CompositeBloq.out_less_than_equal&quot; -->\n",
       "<g id=\"node8\" class=\"node\">\n",
       "<title>&quot;.CompositeBloq.out_less_than_equal&quot;</title>\n",
       "<ellipse fill=\"none\" stroke=\"#ffa44a\" stroke-width=\"2\" cx=\"1266.48\" cy=\"-442\" rx=\"59.41\" ry=\"59.41\"/>\n",
       "<text text-anchor=\"middle\" x=\"1266.48\" y=\"-439.5\" font-family=\"Times,serif\" font-size=\"10.00\">out_less_than_equal</text>\n",
       "</g>\n",
       "<!-- &quot;.CompositeBloq.out_selection&quot; -->\n",
       "<g id=\"node9\" class=\"node\">\n",
       "<title>&quot;.CompositeBloq.out_selection&quot;</title>\n",
       "<ellipse fill=\"none\" stroke=\"#ffa44a\" stroke-width=\"2\" cx=\"1266.48\" cy=\"-250\" rx=\"42.27\" ry=\"42.27\"/>\n",
       "<text text-anchor=\"middle\" x=\"1266.48\" y=\"-247.5\" font-family=\"Times,serif\" font-size=\"10.00\">out_selection</text>\n",
       "</g>\n",
       "<!-- &quot;.CompositeBloq.out_sigma_mu&quot; -->\n",
       "<g id=\"node10\" class=\"node\">\n",
       "<title>&quot;.CompositeBloq.out_sigma_mu&quot;</title>\n",
       "<ellipse fill=\"none\" stroke=\"#ffa44a\" stroke-width=\"2\" cx=\"1266.48\" cy=\"-61\" rx=\"45.15\" ry=\"45.15\"/>\n",
       "<text text-anchor=\"middle\" x=\"1266.48\" y=\"-58.5\" font-family=\"Times,serif\" font-size=\"10.00\">out_sigma_mu</text>\n",
       "</g>\n",
       "<!-- &quot;.CompositeBloq.CSwap_4&quot; -->\n",
       "<g id=\"node11\" class=\"node\">\n",
       "<title>&quot;.CompositeBloq.CSwap_4&quot;</title>\n",
       "<path fill=\"none\" stroke=\"#0288f5\" stroke-width=\"2\" d=\"M1019.02,-300.5C1019.02,-300.5 1159.02,-300.5 1159.02,-300.5 1165.02,-300.5 1171.02,-306.5 1171.02,-312.5 1171.02,-312.5 1171.02,-351.5 1171.02,-351.5 1171.02,-357.5 1165.02,-363.5 1159.02,-363.5 1159.02,-363.5 1019.02,-363.5 1019.02,-363.5 1013.02,-363.5 1007.02,-357.5 1007.02,-351.5 1007.02,-351.5 1007.02,-312.5 1007.02,-312.5 1007.02,-306.5 1013.02,-300.5 1019.02,-300.5\"/>\n",
       "<text text-anchor=\"middle\" x=\"1030.52\" y=\"-349.9\" font-family=\"Times,serif\" font-size=\"12.00\">in_ctrl</text>\n",
       "<polyline fill=\"none\" stroke=\"#0288f5\" stroke-width=\"2\" points=\"1007.02,-342.5 1054.02,-342.5 \"/>\n",
       "<text text-anchor=\"middle\" x=\"1030.52\" y=\"-328.9\" font-family=\"Times,serif\" font-size=\"12.00\">in_x</text>\n",
       "<polyline fill=\"none\" stroke=\"#0288f5\" stroke-width=\"2\" points=\"1007.02,-321.5 1054.02,-321.5 \"/>\n",
       "<text text-anchor=\"middle\" x=\"1030.52\" y=\"-307.9\" font-family=\"Times,serif\" font-size=\"12.00\">in_y</text>\n",
       "<polyline fill=\"none\" stroke=\"#0288f5\" stroke-width=\"2\" points=\"1054.02,-300.5 1054.02,-363.5 \"/>\n",
       "<text text-anchor=\"middle\" x=\"1086.02\" y=\"-328.9\" font-family=\"Times,serif\" font-size=\"12.00\">CSwap_4</text>\n",
       "<polyline fill=\"none\" stroke=\"#0288f5\" stroke-width=\"2\" points=\"1118.02,-300.5 1118.02,-363.5 \"/>\n",
       "<text text-anchor=\"middle\" x=\"1144.52\" y=\"-349.9\" font-family=\"Times,serif\" font-size=\"12.00\">out_ctrl</text>\n",
       "<polyline fill=\"none\" stroke=\"#0288f5\" stroke-width=\"2\" points=\"1118.02,-342.5 1171.02,-342.5 \"/>\n",
       "<text text-anchor=\"middle\" x=\"1144.52\" y=\"-328.9\" font-family=\"Times,serif\" font-size=\"12.00\">out_x</text>\n",
       "<polyline fill=\"none\" stroke=\"#0288f5\" stroke-width=\"2\" points=\"1118.02,-321.5 1171.02,-321.5 \"/>\n",
       "<text text-anchor=\"middle\" x=\"1144.52\" y=\"-307.9\" font-family=\"Times,serif\" font-size=\"12.00\">out_y</text>\n",
       "</g>\n",
       "<!-- &quot;.CompositeBloq.CSwap_4&quot;&#45;&gt;&quot;.CompositeBloq.out_alt&quot; -->\n",
       "<g id=\"edge2\" class=\"edge\">\n",
       "<title>&quot;.CompositeBloq.CSwap_4&quot;:out_x&#45;&gt;&quot;.CompositeBloq.out_alt&quot;</title>\n",
       "<path fill=\"none\" stroke=\"black\" d=\"M1171.02,-332C1190.2,-332 1211.53,-333.04 1229.07,-334.17\"/>\n",
       "<polygon fill=\"black\" stroke=\"black\" points=\"1229.22,-337.69 1239.44,-334.88 1229.7,-330.71 1229.22,-337.69\"/>\n",
       "</g>\n",
       "<!-- &quot;.CompositeBloq.CSwap_4&quot;&#45;&gt;&quot;.CompositeBloq.out_less_than_equal&quot; -->\n",
       "<g id=\"edge1\" class=\"edge\">\n",
       "<title>&quot;.CompositeBloq.CSwap_4&quot;:out_ctrl&#45;&gt;&quot;.CompositeBloq.out_less_than_equal&quot;</title>\n",
       "<path fill=\"none\" stroke=\"black\" d=\"M1171.02,-353C1183.61,-353 1203.2,-369.95 1221.29,-389.06\"/>\n",
       "<polygon fill=\"black\" stroke=\"black\" points=\"1218.77,-391.49 1228.13,-396.46 1223.91,-386.74 1218.77,-391.49\"/>\n",
       "</g>\n",
       "<!-- &quot;.CompositeBloq.CSwap_4&quot;&#45;&gt;&quot;.CompositeBloq.out_selection&quot; -->\n",
       "<g id=\"edge3\" class=\"edge\">\n",
       "<title>&quot;.CompositeBloq.CSwap_4&quot;:out_y&#45;&gt;&quot;.CompositeBloq.out_selection&quot;</title>\n",
       "<path fill=\"none\" stroke=\"black\" d=\"M1171.02,-311C1182.95,-311 1205,-297.11 1224.8,-282.58\"/>\n",
       "<polygon fill=\"black\" stroke=\"black\" points=\"1226.92,-285.37 1232.83,-276.58 1222.72,-279.77 1226.92,-285.37\"/>\n",
       "</g>\n",
       "<!-- &quot;.CompositeBloq.LessThanEqual_3&quot;&#45;&gt;&quot;.CompositeBloq.out_keep&quot; -->\n",
       "<g id=\"edge5\" class=\"edge\">\n",
       "<title>&quot;.CompositeBloq.LessThanEqual_3&quot;:out_x&#45;&gt;&quot;.CompositeBloq.out_keep&quot;</title>\n",
       "<path fill=\"none\" stroke=\"black\" d=\"M971.02,-157C1061.26,-157 1167.05,-157 1224.04,-157\"/>\n",
       "<polygon fill=\"black\" stroke=\"black\" points=\"1224.1,-160.5 1234.1,-157 1224.1,-153.5 1224.1,-160.5\"/>\n",
       "</g>\n",
       "<!-- &quot;.CompositeBloq.LessThanEqual_3&quot;&#45;&gt;&quot;.CompositeBloq.out_sigma_mu&quot; -->\n",
       "<g id=\"edge6\" class=\"edge\">\n",
       "<title>&quot;.CompositeBloq.LessThanEqual_3&quot;:out_y&#45;&gt;&quot;.CompositeBloq.out_sigma_mu&quot;</title>\n",
       "<path fill=\"none\" stroke=\"black\" d=\"M971.02,-136C1058.79,-136 1156.85,-104.32 1214.75,-82.14\"/>\n",
       "<polygon fill=\"black\" stroke=\"black\" points=\"1216.33,-85.28 1224.38,-78.4 1213.8,-78.76 1216.33,-85.28\"/>\n",
       "</g>\n",
       "<!-- &quot;.CompositeBloq.LessThanEqual_3&quot;&#45;&gt;&quot;.CompositeBloq.CSwap_4&quot; -->\n",
       "<g id=\"edge4\" class=\"edge\">\n",
       "<title>&quot;.CompositeBloq.LessThanEqual_3&quot;:out_target&#45;&gt;&quot;.CompositeBloq.CSwap_4&quot;:in_ctrl</title>\n",
       "<path fill=\"none\" stroke=\"black\" d=\"M971.02,-178C1046.55,-178 939.13,-336.33 996.79,-351.79\"/>\n",
       "<polygon fill=\"black\" stroke=\"black\" points=\"996.68,-355.3 1007.02,-353 997.5,-348.35 996.68,-355.3\"/>\n",
       "</g>\n",
       "<!-- &quot;.CompositeBloq.OnEach_1&quot;&#45;&gt;&quot;.CompositeBloq.LessThanEqual_3&quot; -->\n",
       "<g id=\"edge7\" class=\"edge\">\n",
       "<title>&quot;.CompositeBloq.OnEach_1&quot;:out_q&#45;&gt;&quot;.CompositeBloq.LessThanEqual_3&quot;:in_y</title>\n",
       "<path fill=\"none\" stroke=\"black\" d=\"M677.52,-99C708.34,-99 711.15,-128.35 735.84,-134.77\"/>\n",
       "<polygon fill=\"black\" stroke=\"black\" points=\"735.68,-138.27 746.02,-136 736.52,-131.32 735.68,-138.27\"/>\n",
       "</g>\n",
       "<!-- &quot;.CompositeBloq.PrepareUniformSuperposition_0&quot;&#45;&gt;&quot;.CompositeBloq.QROM_2&quot; -->\n",
       "<g id=\"edge8\" class=\"edge\">\n",
       "<title>&quot;.CompositeBloq.PrepareUniformSuperposition_0&quot;:out_target&#45;&gt;&quot;.CompositeBloq.QROM_2&quot;:in_selection</title>\n",
       "<path fill=\"none\" stroke=\"black\" d=\"M457.02,-418C489.1,-418 464.15,-360.6 483.31,-347.6\"/>\n",
       "<polygon fill=\"black\" stroke=\"black\" points=\"484.27,-350.97 493.02,-345 482.46,-344.2 484.27,-350.97\"/>\n",
       "</g>\n",
       "<!-- &quot;.CompositeBloq.QROM_2&quot;&#45;&gt;&quot;.CompositeBloq.CSwap_4&quot; -->\n",
       "<g id=\"edge9\" class=\"edge\">\n",
       "<title>&quot;.CompositeBloq.QROM_2&quot;:out_selection&#45;&gt;&quot;.CompositeBloq.CSwap_4&quot;:in_y</title>\n",
       "<path fill=\"none\" stroke=\"black\" d=\"M710.02,-345C727.91,-345 728.75,-331.64 746.02,-327 854.97,-297.73 888.83,-310.21 997.02,-310.97\"/>\n",
       "<polygon fill=\"black\" stroke=\"black\" points=\"997.01,-314.46 1007.02,-311 997.04,-307.46 997.01,-314.46\"/>\n",
       "</g>\n",
       "<!-- &quot;.CompositeBloq.QROM_2&quot;&#45;&gt;&quot;.CompositeBloq.CSwap_4&quot; -->\n",
       "<g id=\"edge10\" class=\"edge\">\n",
       "<title>&quot;.CompositeBloq.QROM_2&quot;:out_target0_&#45;&gt;&quot;.CompositeBloq.CSwap_4&quot;:in_x</title>\n",
       "<path fill=\"none\" stroke=\"black\" d=\"M710.02,-324C838.59,-324 873.17,-331.58 996.78,-331.98\"/>\n",
       "<polygon fill=\"black\" stroke=\"black\" points=\"997.02,-335.48 1007.02,-332 997.03,-328.48 997.02,-335.48\"/>\n",
       "</g>\n",
       "<!-- &quot;.CompositeBloq.QROM_2&quot;&#45;&gt;&quot;.CompositeBloq.LessThanEqual_3&quot; -->\n",
       "<g id=\"edge11\" class=\"edge\">\n",
       "<title>&quot;.CompositeBloq.QROM_2&quot;:out_target1_&#45;&gt;&quot;.CompositeBloq.LessThanEqual_3&quot;:in_x</title>\n",
       "<path fill=\"none\" stroke=\"black\" d=\"M710.02,-303C772.94,-303 690.07,-173.61 735.9,-158.45\"/>\n",
       "<polygon fill=\"black\" stroke=\"black\" points=\"736.62,-161.88 746.02,-157 735.63,-154.95 736.62,-161.88\"/>\n",
       "</g>\n",
       "</g>\n",
       "</svg>\n"
      ],
      "text/plain": [
       "<graphviz.graphs.Digraph at 0x174c62c50>"
      ]
     },
     "execution_count": 2,
     "metadata": {},
     "output_type": "execute_result"
    }
   ],
   "source": [
    "from qualtran.qref_interop import bloq_to_qref\n",
    "from qref.experimental.rendering import to_graphviz\n",
    "\n",
    "# We can easily convert it to QREF representation with the following code:\n",
    "qref_definition = bloq_to_qref(bloq)\n",
    "to_graphviz(qref_definition)"
   ]
  },
  {
   "cell_type": "markdown",
   "id": "d801c78f",
   "metadata": {},
   "source": [
    "### Comparing Bloq and QREF Resources\n",
    "\n",
    "Besides comparing the print outs of the two different objects above, it is helpful to review the cost details of the Bloq and QREF definition. "
   ]
  },
  {
   "cell_type": "code",
   "execution_count": 3,
   "id": "755d7031-617a-4908-9ee1-45a42c422fbd",
   "metadata": {},
   "outputs": [
    {
     "name": "stdout",
     "output_type": "stream",
     "text": [
      "Qualtran Bloq T Complexity: \n",
      "TComplexity(t=307, clifford=1770, rotations=2)\n",
      "\n",
      "QREF Resources: \n",
      "[ResourceV1(name='clifford', type='additive', value=1770),\n",
      " ResourceV1(name='rotations', type='additive', value=2),\n",
      " ResourceV1(name='t', type='additive', value=307)]\n"
     ]
    }
   ],
   "source": [
    "from pprint import pprint\n",
    "# We can check that the resources for both representations are the same:\n",
    "print(\"Qualtran Bloq T Complexity: \")\n",
    "pprint(bloq.t_complexity())\n",
    "print(\"\\nQREF Resources: \")\n",
    "pprint(qref_definition.program.resources)"
   ]
  },
  {
   "cell_type": "markdown",
   "id": "5133d33a-017a-488e-a8f9-2c37a058062d",
   "metadata": {},
   "source": [
    "The resources printed above are the \"top-level\" resources. However, the resources of the building blocks can also be accessed. For example, Uniform State Preparation (`PrepareUniformSuperposition`) can be accessed with the following code:"
   ]
  },
  {
   "cell_type": "code",
   "execution_count": 4,
   "id": "bafd2405-3ac0-43ff-b9b4-7978ffd49cef",
   "metadata": {},
   "outputs": [
    {
     "name": "stdout",
     "output_type": "stream",
     "text": [
      "Qualtran PrepareUniformSuperposition T Complexity: \n",
      "TComplexity(t=20, clifford=106, rotations=2)\n",
      "\n",
      " QREF PrepareUniformSuperposition_0 Resources: \n",
      "[ResourceV1(name='clifford', type='additive', value=106),\n",
      " ResourceV1(name='rotations', type='additive', value=2),\n",
      " ResourceV1(name='t', type='additive', value=20)]\n"
     ]
    }
   ],
   "source": [
    "USP_bloq = [bloq_inst.bloq for bloq_inst in bloq.bloq_instances if bloq_inst.bloq.pretty_name() == \"PrepareUniformSuperposition\"][0]\n",
    "print(\"Qualtran PrepareUniformSuperposition T Complexity: \")\n",
    "pprint(USP_bloq.t_complexity())\n",
    "print(\"\\n QREF PrepareUniformSuperposition_0 Resources: \")\n",
    "pprint(qref_definition.program.children.by_name[\"PrepareUniformSuperposition_0\"].resources)"
   ]
  },
  {
   "cell_type": "markdown",
   "id": "4953f807-5ce0-42c5-9bf4-6773c5f45e87",
   "metadata": {},
   "source": [
    "### Use Bartiq with QREF to Compile the Costs \n",
    "\n",
    "The `qref_definition` can now be passed to Bartiq. However, it would be trivial since all of the resources are included from the Bloq. Therefore, before passing it to Bartiq, we will remove the \"top-level\" resources in `qref_definition`. After clearing the resources, calling `compile_routine` will compile the costs from the building blocks or subroutines."
   ]
  },
  {
   "cell_type": "code",
   "execution_count": 5,
   "id": "56beb66e-0989-4cf6-920b-bbc51cae559d",
   "metadata": {},
   "outputs": [
    {
     "name": "stdout",
     "output_type": "stream",
     "text": [
      "Qualtran Bloq T Complexity: \n",
      "TComplexity(t=307, clifford=1770, rotations=2)\n",
      "\n",
      "QREF Resources:\n",
      "{'clifford': <Resource name=\"clifford\" value=\"1770\">,\n",
      " 'rotations': <Resource name=\"rotations\" value=\"2\">,\n",
      " 't': <Resource name=\"t\" value=\"307\">}\n"
     ]
    }
   ],
   "source": [
    "from bartiq.integrations.qref import qref_to_bartiq\n",
    "from bartiq import compile_routine\n",
    "\n",
    "\n",
    "# Clear the resources from the top-level\n",
    "qref_definition.program.resources =  [] \n",
    "\n",
    "bartiq_routine = qref_to_bartiq(qref_definition)\n",
    "compiled_routine = compile_routine(bartiq_routine)\n",
    "\n",
    "print(\"Qualtran Bloq T Complexity: \")\n",
    "pprint(bloq.t_complexity())\n",
    "print(\"\\nQREF Resources:\")\n",
    "pprint(compiled_routine.resources)"
   ]
  },
  {
   "cell_type": "markdown",
   "id": "31b2ceb7",
   "metadata": {},
   "source": [
    "## Writing a Custom Uniform Superposition (USP) Implementation\n",
    "\n",
    "While the example above demonstrated the integration, the information derived by Bartiq was the same as the information from Qualtran. Therefore, let's try other scenarios highlighting use cases where Bartiq can provide unique information.\n"
   ]
  },
  {
   "cell_type": "markdown",
   "id": "91aa9d2b",
   "metadata": {},
   "source": [
    "### Numeric Implementation\n",
    "\n",
    "The example above is purely numeric. If symbolic expressions are used, we are able to produce resources and decompose the \"top-level\" bloq, `StatePreparationAliasSampling` (see snippet below). However, subsequent bloqs, like `PrepareUniformSuperposition`, cannot be further decomposed using `decompose_bloq()` This is most likely temporary and as Qualtran improves, this might cease being a problem.\n",
    "\n",
    "```\n",
    "import sympy\n",
    "N, M, eps = sympy.symbols(\"N M eps\")\n",
    "bloq = StatePreparationAliasSampling.from_n_coeff(n_coeff=N, sum_of_unnormalized_probabilites=M, precision=eps)\n",
    "pprint(bloq.t_complexity())\n",
    "```"
   ]
  },
  {
   "cell_type": "markdown",
   "id": "27483d83-d008-499c-9322-c2953f6db573",
   "metadata": {},
   "source": [
    "\n",
    "### Resources Tied to a Specific Implementation\n",
    "\n",
    "At the time of writing this, the source code of [PrepareUniformSuperposition](https://github.com/quantumlib/Qualtran/blob/c0a3a94d712f4eebb1cad119fc507a6cd9a7d8e7/qualtran/bloqs/state_preparation/prepare_uniform_superposition.py#L44), includes the following information in the docstring:\n",
    "\n",
    "> Performs a single round of amplitude amplification and prepares a uniform superposition over the first $n$ basis states $|0>, |1>, ..., |n - 1>$. The expected T-complexity should be $10 * log(L) + 2 * K$ T-gates and $2$ single qubit rotation gates, where $n = L * 2^K$.\n",
    ">\n",
    "> However, the current T-complexity is $12 * log(L)$ T-gates and $2 + 2 * (K + log(L))$ rotations\n",
    "because of two open issues:\n",
    "> \n",
    "> - https://github.com/quantumlib/Qualtran/issues/233 and\n",
    "> - https://github.com/quantumlib/Qualtran/issues/235\n",
    "\n",
    "\n",
    "Unfortunately, in Qualtran there are instances of being tied to a specific implementation of a resource, even if it is known to be incorrect.\n",
    "\n",
    "Below we will see how we can quickly create an alternative implementation of USP with QREF."
   ]
  },
  {
   "cell_type": "markdown",
   "id": "1dfcfc18",
   "metadata": {},
   "source": [
    "### Create the USP Implementation with Symbolic Expressions\n",
    "\n",
    "First, we will create the Qualtran USP Bloq and then convert it to a QREF definition. We will do this to confirm the incorrect T-Complexity expressions."
   ]
  },
  {
   "cell_type": "code",
   "execution_count": 6,
   "id": "b6491b25-8364-4542-ba4e-3de3b990ad10",
   "metadata": {},
   "outputs": [
    {
     "name": "stdout",
     "output_type": "stream",
     "text": [
      "Qualtran USP Bloq T Complexity: \n",
      "TComplexity(t=12*ceiling(log2(floor(N))) - 4, clifford=52*ceiling(log2(floor(N))) - 9, rotations=2)\n",
      "\n",
      "QREF USP Resources: \n",
      "[ResourceV1(name='clifford', type='additive', value='52*ceiling(log2(floor(N))) - 9'),\n",
      " ResourceV1(name='rotations', type='additive', value='2'),\n",
      " ResourceV1(name='t', type='additive', value='12*ceiling(log2(floor(N))) - 4')]\n"
     ]
    }
   ],
   "source": [
    "from qualtran.bloqs.state_preparation import PrepareUniformSuperposition\n",
    "import sympy\n",
    "\n",
    "N = sympy.symbols(\"N\")\n",
    "USP_bloq = PrepareUniformSuperposition(N)\n",
    "\n",
    "# We see that contrary to the docstring, the number of rotations is already correct\n",
    "print(\"Qualtran USP Bloq T Complexity: \")\n",
    "pprint(USP_bloq.t_complexity())\n",
    "\n",
    "# Now we create a QREF definitions based on the PrepareUniformSuperposition bloq\n",
    "usp_1_qref = bloq_to_qref(USP_bloq) # this will be left unchanged\n",
    "print(\"\\nQREF USP Resources: \")\n",
    "pprint(usp_1_qref.program.resources)"
   ]
  },
  {
   "cell_type": "markdown",
   "id": "5951a8fe",
   "metadata": {},
   "source": [
    "We can see above that Bloq and QREF resources, for the USP have the same, incorrect symbolic expressions. From the docstring, we know that it should be $10 * log(L) + 2 * K$."
   ]
  },
  {
   "cell_type": "markdown",
   "id": "3a36c459",
   "metadata": {},
   "source": [
    "### Manually Create a New USP in QREF\n",
    "\n",
    "We will implement the new version of USP directly in QREF with the correct expressions for the number of T gates and rotations. To fill in the other USP information we used the details from `usp_1_qref.model_dump()`. "
   ]
  },
  {
   "cell_type": "code",
   "execution_count": 7,
   "id": "97d88fce-c538-4282-a665-b2c721716d84",
   "metadata": {},
   "outputs": [],
   "source": [
    "# Note that we omit Clifford gates here, as the expression for them is not mentioned in the docstring.\n",
    "from qref import SchemaV1\n",
    "import math\n",
    "port_size = math.ceil(math.log2(len(probs_list)))\n",
    "\n",
    "usp_2_qref = SchemaV1(\n",
    "    program={\n",
    "        \"name\": \"PrepareUniformSuperposition\",\n",
    "        \"input_params\": [\"N\"],\n",
    "        \"ports\": [\n",
    "            {\"direction\": \"input\", \"name\": \"in_target\", \"size\": port_size},\n",
    "            {\"direction\": \"output\", \"name\": \"out_target\", \"size\": port_size},\n",
    "        ],\n",
    "        \"resources\": [\n",
    "            {\"name\": \"t\", \"type\": \"additive\", \"value\": \"10*ceiling(log2(L)) + 2*k\"},\n",
    "            {\"name\": \"rotations\", \"type\": \"additive\", \"value\": \"2\"},\n",
    "        ],\n",
    "        \"local_variables\": {\"k\": \"multiplicity(2, N)\", \"L\": \"N/2**k\"},\n",
    "    },\n",
    "    version=\"v1\",\n",
    ")"
   ]
  },
  {
   "cell_type": "markdown",
   "id": "83025aeb",
   "metadata": {},
   "source": [
    "Now that we have the QREF definition from both the Qualtran USP bloq and the manually created USP information, we can compare the symbolix expressions for the number of T gates."
   ]
  },
  {
   "cell_type": "code",
   "execution_count": 8,
   "id": "814c2e11-d430-411e-b015-85e803528b3a",
   "metadata": {},
   "outputs": [
    {
     "name": "stdout",
     "output_type": "stream",
     "text": [
      "Qualtran USP Bloq T Complexity - T Gates\n",
      "<Resource name=\"t\" value=\"12*ceiling(log2(floor(N))) - 4\">\n",
      "\n",
      "QREF USP Custom Implementation - T Gates\n",
      "<Resource name=\"t\" value=\"10*ceiling(log2(N/2 ^ multiplicity(2, N))) + 2*multiplicity(2, N)\">\n"
     ]
    }
   ],
   "source": [
    "usp_1_bartiq = qref_to_bartiq(usp_1_qref)\n",
    "print(\"Qualtran USP Bloq T Complexity - T Gates\")\n",
    "pprint(compile_routine(usp_1_bartiq).resources[\"t\"])\n",
    "\n",
    "usp_2_bartiq = qref_to_bartiq(usp_2_qref)\n",
    "print(\"\\nQREF USP Custom Implementation - T Gates\")\n",
    "pprint(compile_routine(usp_2_bartiq).resources[\"t\"])"
   ]
  },
  {
   "cell_type": "markdown",
   "id": "07d684ae-fa77-4d48-8850-4d394b2ec4e3",
   "metadata": {},
   "source": [
    "## Updating Alias Sampling\n",
    "\n",
    "Now that we have a corrected USP component as a QREF definition, it is important to update Alias Sampling with the new component."
   ]
  },
  {
   "cell_type": "code",
   "execution_count": 9,
   "id": "b1a54903-29a3-4017-84cf-e87d51d53a4a",
   "metadata": {},
   "outputs": [
    {
     "name": "stdout",
     "output_type": "stream",
     "text": [
      "['CSwap_4', 'LessThanEqual_3', 'OnEach_1', 'PrepareUniformSuperposition_0', 'QROM_2']\n"
     ]
    }
   ],
   "source": [
    "# Create the Alias Sampling bloq\n",
    "bloq = StatePreparationAliasSampling.from_probabilities(probs_list).decompose_bloq()\n",
    "\n",
    "# We export our Alias Sampling bloq to QREF and remove top-level resources so we can re-compute them later.\n",
    "qref_as_1 = bloq_to_qref(bloq) # this will be left unchanged\n",
    "qref_as_2 = bloq_to_qref(bloq) # this will be updated\n",
    "qref_as_1.program.resources = []\n",
    "qref_as_2.program.resources = []\n",
    "\n",
    "print([child.name for child in qref_as_2.program.children])\n"
   ]
  },
  {
   "cell_type": "markdown",
   "id": "da9a9486",
   "metadata": {},
   "source": [
    "You will notice we printed out the names of the components of the Alias Sampling QREF defintion. This is important because before we put the subroutine in the right place, we need to make sure it is named correctly. If we failed to ensure the proper name, some of the connections will be invalid."
   ]
  },
  {
   "cell_type": "code",
   "execution_count": 10,
   "id": "f2305c8f-7bf0-44a2-8c2f-d6afd63111ea",
   "metadata": {},
   "outputs": [
    {
     "name": "stdout",
     "output_type": "stream",
     "text": [
      "Unchanged Alias Sampling T Complexity - T Gates: \n",
      "<Resource name=\"t\" value=\"307\">\n",
      "\n",
      "Updated Alias Sampling T Complexity - T Gates: \n",
      "<Resource name=\"t\" value=\"10*ceiling(log2(PrepareUniformSuperposition_0.N/2 ^ multiplicity(2, PrepareUniformSuperposition_0.N))) + 2*multiplicity(2, PrepareUniformSuperposition_0.N) + 287\">\n"
     ]
    },
    {
     "name": "stderr",
     "output_type": "stream",
     "text": [
      "/Users/briangoldsmith/anaconda3/envs/my-qualtran-env/lib/python3.11/site-packages/bartiq/compilation/_compile.py:117: UserWarning: Found the following issues with the provided routine after the compilation has finished: [\"Input param N found in subroutine: CompositeBloq.PrepareUniformSuperposition_0, which is not among top level params: {'PrepareUniformSuperposition_0.N'}.\"]\n",
      "  warnings.warn(\n"
     ]
    }
   ],
   "source": [
    "usp_2_qref.program.name = \"PrepareUniformSuperposition_0\"\n",
    "qref_as_2.program.children.by_name[\"PrepareUniformSuperposition_0\"] = usp_2_qref.program\n",
    "\n",
    "\n",
    "bartiq_as_1 = qref_to_bartiq(qref_as_1)\n",
    "print(\"Unchanged Alias Sampling T Complexity - T Gates: \")\n",
    "pprint(compile_routine(bartiq_as_1).resources[\"t\"])\n",
    "\n",
    "bartiq_as_2 = qref_to_bartiq(qref_as_2)\n",
    "print(\"\\nUpdated Alias Sampling T Complexity - T Gates: \")\n",
    "pprint(compile_routine(bartiq_as_2).resources[\"t\"])\n"
   ]
  },
  {
   "cell_type": "markdown",
   "id": "44cc58e6-6155-4919-9156-556b5e42fdf4",
   "metadata": {},
   "source": [
    "The unchanged Alias Sampling results shows the same 307 T gates that we saw earlier in the notebook. However, for the updated Alias Sampling, we see a much different result. While the T-gates resource is printed, a warning is also seen. Since the \"top-level\" routine does not have knowledge of its child's parameter, the parameter `N` from the USP routine is namespaced resulting in `PrepareUniformSuperposition_0.N` in the expression. To address the warning, at a \"top-level\" we will need to include `N` as an input paramter and link that to `PrepareUniformSuperposition_0.N`."
   ]
  },
  {
   "cell_type": "code",
   "execution_count": 11,
   "id": "275437ee-aab0-4f38-93dc-603ba1a4a5f2",
   "metadata": {},
   "outputs": [
    {
     "data": {
      "text/plain": [
       "<Resource name=\"t\" value=\"10*ceiling(log2(N/2 ^ multiplicity(2, N))) + 2*multiplicity(2, N) + 287\">"
      ]
     },
     "execution_count": 11,
     "metadata": {},
     "output_type": "execute_result"
    }
   ],
   "source": [
    "qref_as_2.program.input_params = [\"N\"]\n",
    "qref_as_2.program.linked_params = [{\"source\": \"N\", \"targets\": [\"PrepareUniformSuperposition_0.N\"]}]\n",
    "\n",
    "bartiq_as_2 = qref_to_bartiq(qref_as_2)\n",
    "compiled_as_2 = compile_routine(bartiq_as_2)\n",
    "compiled_as_2.resources[\"t\"]"
   ]
  },
  {
   "cell_type": "markdown",
   "id": "e864d60d-66cc-4bc7-92dc-708c2a77b614",
   "metadata": {},
   "source": [
    "With the `N` parameter correctly setup, we no longer see the warning and correctly compile and print the symbolic expression for the number of T gates. Now we can generate numerical values for the resources given a specific value of `N`. To do this, we can use Bartiq's `evaluate` method."
   ]
  },
  {
   "cell_type": "code",
   "execution_count": 12,
   "id": "1ecc7d7a-22da-4072-bf96-1d6e26e01493",
   "metadata": {},
   "outputs": [
    {
     "data": {
      "text/plain": [
       "<Resource name=\"t\" value=\"313\">"
      ]
     },
     "execution_count": 12,
     "metadata": {},
     "output_type": "execute_result"
    }
   ],
   "source": [
    "from bartiq import evaluate\n",
    "N_value = len(probs_list)\n",
    "assignments = {f\"N={N_value}\"}\n",
    "evaluate(compiled_as_2, assignments).resources[\"t\"]"
   ]
  },
  {
   "cell_type": "markdown",
   "id": "0d866675-d219-4ff7-a5a8-d1c2419b7863",
   "metadata": {},
   "source": [
    "## Custom Cost Functions\n",
    "\n",
    "Another case highlighting the usefulness of Bartiq is when the cost of a particular routine is given by a custom function. For example, we can set the cost of USP using a recursive function, `foo`, as defined below."
   ]
  },
  {
   "cell_type": "code",
   "execution_count": 13,
   "id": "5e6f5a6e-3b31-4bb0-ad9e-2cc45e2290ed",
   "metadata": {},
   "outputs": [],
   "source": [
    "def foo(n):\n",
    "    if n < 10:\n",
    "        return n\n",
    "    else:\n",
    "        return foo(n-3) "
   ]
  },
  {
   "cell_type": "code",
   "execution_count": 14,
   "id": "1bc1821a-0b41-4c4c-9cbf-24d71e0f18ec",
   "metadata": {},
   "outputs": [
    {
     "data": {
      "text/plain": [
       "{'t': <Resource name=\"t\" value=\"2*foo(N)\">}"
      ]
     },
     "execution_count": 14,
     "metadata": {},
     "output_type": "execute_result"
    }
   ],
   "source": [
    "import copy\n",
    "usp_3_qref = copy.copy(usp_2_qref)\n",
    "usp_3_qref.program.resources = [{\"name\": \"t\", \"type\": \"additive\", \"value\": \"2*foo(N)\"}]\n",
    "\n",
    "usp_3_bartiq = qref_to_bartiq(usp_3_qref)\n",
    "compiled_usp_3 = compile_routine(usp_3_bartiq)\n",
    "compiled_usp_3.resources"
   ]
  },
  {
   "cell_type": "markdown",
   "id": "243e6f30",
   "metadata": {},
   "source": [
    "The function, `foo`, is now included in the cost expression for the number of T gates. Similar to what we did previously, by providing a value for `N` and mapping the function `foo` in the expression to the defined function `foo`, we can call `evaluate` to generate numerical values."
   ]
  },
  {
   "cell_type": "code",
   "execution_count": 15,
   "id": "4cf814e0-d3e5-43f0-9197-373b897233a0",
   "metadata": {},
   "outputs": [
    {
     "data": {
      "text/plain": [
       "{'t': <Resource name=\"t\" value=\"16\">}"
      ]
     },
     "execution_count": 15,
     "metadata": {},
     "output_type": "execute_result"
    }
   ],
   "source": [
    "assignments = {\"N=101\"}\n",
    "functions_map = {\"foo\": foo}\n",
    "evaluate(compiled_usp_3, assignments, functions_map=functions_map).resources"
   ]
  },
  {
   "cell_type": "markdown",
   "id": "51f03933-923d-4386-8dbc-f329ae22e2d2",
   "metadata": {},
   "source": [
    "Again, this highlights the power of Bartiq by allowing us to both use custom functions in the symbolic expressions for the costs, as well as evaluate them with specific numeric values."
   ]
  },
  {
   "cell_type": "markdown",
   "id": "c23692ca-2038-4db2-aeb2-4608940d1e31",
   "metadata": {},
   "source": [
    "## Closing Remarks"
   ]
  },
  {
   "cell_type": "markdown",
   "id": "4bd2b13a-2127-4797-866e-a9fe26bb0f7e",
   "metadata": {},
   "source": [
    "Thank you for going through this notebook!\n",
    "QREF and Bartiq are still in beta, and there is so much more we could do to make the integration with Qualtran better.\n",
    "If you have a specific use case in mind, or if you encounter any problems, please leave an issue in any of the involved projects. We'd love to help you make it work!"
   ]
  }
 ],
 "metadata": {
  "kernelspec": {
   "display_name": "Python 3 (ipykernel)",
   "language": "python",
   "name": "python3"
  },
  "language_info": {
   "codemirror_mode": {
    "name": "ipython",
    "version": 3
   },
   "file_extension": ".py",
   "mimetype": "text/x-python",
   "name": "python",
   "nbconvert_exporter": "python",
   "pygments_lexer": "ipython3",
   "version": "3.11.9"
  }
 },
 "nbformat": 4,
 "nbformat_minor": 5
}
